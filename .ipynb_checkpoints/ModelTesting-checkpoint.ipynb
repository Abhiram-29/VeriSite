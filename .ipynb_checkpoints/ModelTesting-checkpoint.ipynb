{
 "cells": [
  {
   "cell_type": "code",
   "execution_count": 1,
   "id": "e2ff7505-d3bf-4e44-8f94-09ba208c5f4f",
   "metadata": {},
   "outputs": [],
   "source": [
    "import dill\n",
    "import pandas as pd\n",
    "from sklearn.metrics import accuracy_score"
   ]
  },
  {
   "cell_type": "code",
   "execution_count": 2,
   "id": "015e0880-4877-4556-b26a-176450b1c181",
   "metadata": {},
   "outputs": [],
   "source": [
    "def load_model(filename):\n",
    "    with open(filename, 'rb') as file:\n",
    "        return dill.load(file)"
   ]
  },
  {
   "cell_type": "code",
   "execution_count": 3,
   "id": "351e2d31-9e0c-4716-816f-650657484f97",
   "metadata": {},
   "outputs": [],
   "source": [
    "model = load_model(\"./Model.pkl\")"
   ]
  },
  {
   "cell_type": "code",
   "execution_count": 4,
   "id": "1948678a-139a-4139-82b8-d0a97838c66e",
   "metadata": {},
   "outputs": [],
   "source": [
    "X_test = pd.read_csv(\"./X_test.csv\")\n",
    "y_test = pd.read_csv(\"./y_test.csv\")\n",
    "X_test.drop(\"Unnamed: 0\",axis=1,inplace=True)\n",
    "y_test.drop(\"Unnamed: 0\",axis=1,inplace=True)"
   ]
  },
  {
   "cell_type": "code",
   "execution_count": 5,
   "id": "90f0d5ee-8d7b-46c4-bf1d-5b43d50c5cea",
   "metadata": {},
   "outputs": [
    {
     "data": {
      "text/plain": [
       "0.9941275167785235"
      ]
     },
     "execution_count": 5,
     "metadata": {},
     "output_type": "execute_result"
    }
   ],
   "source": [
    "predictions = model.predict(X_test)\n",
    "accuracy_score(predictions,y_test)"
   ]
  },
  {
   "cell_type": "code",
   "execution_count": null,
   "id": "146146fb-4771-406b-8011-3d945ba7869f",
   "metadata": {},
   "outputs": [],
   "source": []
  }
 ],
 "metadata": {
  "kernelspec": {
   "display_name": "Python 3 (ipykernel)",
   "language": "python",
   "name": "python3"
  },
  "language_info": {
   "codemirror_mode": {
    "name": "ipython",
    "version": 3
   },
   "file_extension": ".py",
   "mimetype": "text/x-python",
   "name": "python",
   "nbconvert_exporter": "python",
   "pygments_lexer": "ipython3",
   "version": "3.11.4"
  }
 },
 "nbformat": 4,
 "nbformat_minor": 5
}
