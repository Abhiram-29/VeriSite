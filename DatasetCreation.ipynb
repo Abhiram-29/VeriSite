{
 "cells": [
  {
   "cell_type": "markdown",
   "metadata": {
    "id": "b4qa9ynYiS1h"
   },
   "source": [
    "<h1> Creating a dataset by taking the website URL as input</h1>\n"
   ]
  },
  {
   "cell_type": "code",
   "execution_count": 1,
   "metadata": {
    "colab": {
     "base_uri": "https://localhost:8080/"
    },
    "id": "JXZ1VBPPCQwU",
    "outputId": "558492e2-3c80-4fd4-a67e-898f6478e2b1"
   },
   "outputs": [],
   "source": [
    "#Installing required libraries\n",
    "# !pip install pyopenssl"
   ]
  },
  {
   "cell_type": "code",
   "execution_count": 2,
   "metadata": {
    "id": "sKrfvbaaj0UR"
   },
   "outputs": [],
   "source": [
    "#Importing Libraries\n",
    "from urllib.parse import urlparse\n",
    "import re\n",
    "import requests\n",
    "import unicodedata\n",
    "import socket\n",
    "from datetime import datetime\n",
    "import OpenSSL\n",
    "import ssl\n",
    "import whois\n",
    "from pytz import utc\n",
    "import requests\n",
    "from bs4 import BeautifulSoup\n",
    "import json\n",
    "import pandas as pd"
   ]
  },
  {
   "cell_type": "code",
   "execution_count": 3,
   "metadata": {
    "id": "pSYHdzGCiLpc"
   },
   "outputs": [],
   "source": [
    "#Example URL\n",
    "url = \"https://www.wikipedia.org/\""
   ]
  },
  {
   "cell_type": "code",
   "execution_count": 4,
   "metadata": {
    "id": "7gf7WlUYELhl"
   },
   "outputs": [],
   "source": [
    "goodWebsites = pd.read_csv(\"top-1m.csv\")['URL']\n",
    "# phishUrls = pd.read_csv(\"phish_score(2).csv\")"
   ]
  },
  {
   "cell_type": "code",
   "execution_count": 5,
   "metadata": {
    "id": "qDPlouA2GH37"
   },
   "outputs": [],
   "source": [
    "# badWebsites = phishUrls[phishUrls['Score'] > 4]['URL']\n",
    "# badWebsites.describe()"
   ]
  },
  {
   "cell_type": "code",
   "execution_count": 6,
   "metadata": {
    "id": "o0n_dNWnkcxm"
   },
   "outputs": [],
   "source": [
    "def calculateURLDepth(url):\n",
    "    return urlparse(url).path.count('/') - 1 if urlparse(url).path != '/' else 0\n",
    "\n",
    "def isShortened(url):\n",
    "    shorteners = ['bit.ly', 'tinyurl.com', 'goo.gl', 't.co', 'ow.ly']\n",
    "    if any(shortner in url for shortner in shorteners):\n",
    "        return True\n",
    "    #Try to go and check the final URL after redirection\n",
    "    # try:\n",
    "    #     response = requests.get(url)\n",
    "    #     return response.url != url\n",
    "    # except:\n",
    "    #     return False\n",
    "\n",
    "def hasIP(url):\n",
    "    return re.search(r'\\d{1,3}\\.\\d{1,3}\\.\\d{1,3}\\.\\d{1,3}', url) is not None\n",
    "\n",
    "def hasEmail(url):\n",
    "    return re.search(r'[\\w\\.-]+@[\\w\\.-]+', url) is not None\n",
    "\n",
    "def protocol(url):\n",
    "    return urlparse(url).scheme\n",
    "\n",
    "def hasMisleadingChars(url):\n",
    "  for char in url:\n",
    "    if not (char.isascii() or char.isspace()):\n",
    "      category = unicodedata.category(char)\n",
    "      if category.startswith(\"L\") and not unicodedata.combining(char):\n",
    "        return True\n",
    "  return  False\n",
    "\n",
    "def getDomain(url):\n",
    "    return urlparse(url).netloc\n",
    "\n",
    "import ssl\n",
    "import socket\n",
    "from datetime import datetime, timezone, timedelta\n",
    "from OpenSSL import crypto\n",
    "\n",
    "def getSSLAge(hostname):\n",
    "    try:\n",
    "        # Set up a socket with a timeout\n",
    "        context = ssl.create_default_context()\n",
    "        conn = context.wrap_socket(\n",
    "            socket.socket(socket.AF_INET),\n",
    "            server_hostname=hostname,\n",
    "        )\n",
    "        conn.settimeout(10)  # Set timeout to 10 seconds\n",
    "        conn.connect((hostname, 443))\n",
    "\n",
    "        # Get the server certificate\n",
    "        cert = conn.getpeercert(True)\n",
    "        pem_cert = ssl.DER_cert_to_PEM_cert(cert)\n",
    "        conn.close()\n",
    "\n",
    "        # Load the certificate using OpenSSL\n",
    "        x509 = crypto.load_certificate(crypto.FILETYPE_PEM, pem_cert)\n",
    "        bytes = x509.get_notBefore()\n",
    "        timestamp = bytes.decode('utf-8')\n",
    "\n",
    "        # Calculate the certificate age\n",
    "        issueDate = datetime.strptime(timestamp, '%Y%m%d%H%M%S%z').replace(tzinfo=timezone.utc)\n",
    "        now = datetime.now(timezone.utc)\n",
    "        age = now - issueDate\n",
    "        return age.days\n",
    "    except Exception as e:\n",
    "        # print(f\"An error occurred: {e}\")\n",
    "        return None\n",
    "\n",
    "\n"
   ]
  },
  {
   "cell_type": "code",
   "execution_count": 7,
   "metadata": {
    "colab": {
     "base_uri": "https://localhost:8080/"
    },
    "id": "YgnFHs0eyHjT",
    "outputId": "b6083b61-60a9-4e90-c083-ed99fa80c7f5"
   },
   "outputs": [
    {
     "name": "stdout",
     "output_type": "stream",
     "text": [
      "Domain Age: 10564 days, Registrar: RESERVED-Internet Assigned Numbers Authority\n"
     ]
    }
   ],
   "source": [
    "import whois\n",
    "from datetime import datetime\n",
    "import threading\n",
    "\n",
    "class TimeoutError(Exception):\n",
    "    pass\n",
    "\n",
    "def getDomainAge(hostname, timeout=10):\n",
    "    def whois_lookup():\n",
    "        nonlocal info\n",
    "        try:\n",
    "            info = whois.whois(hostname)\n",
    "        except Exception as e:\n",
    "            info = e\n",
    "\n",
    "    info = None\n",
    "    thread = threading.Thread(target=whois_lookup)\n",
    "    thread.start()\n",
    "    thread.join(timeout)\n",
    "    \n",
    "    if thread.is_alive():\n",
    "        raise TimeoutError(\"WHOIS request timed out\")\n",
    "\n",
    "    if isinstance(info, Exception):\n",
    "        if isinstance(info, whois.parser.PywhoisError):\n",
    "            return None, None\n",
    "        else:\n",
    "            raise info\n",
    "\n",
    "    domainAge = None\n",
    "    createdDate = None\n",
    "    Registrar = info.get('registrar')\n",
    "    try:\n",
    "        for key in ['creation_date', 'created']:\n",
    "            if key in info:\n",
    "                createdDate = info[key]\n",
    "                if isinstance(createdDate, list):\n",
    "                    createdDate = createdDate[0]\n",
    "                if isinstance(createdDate, str):\n",
    "                    createdDate = datetime.strptime(createdDate, \"%Y-%m-%d\")\n",
    "                    break\n",
    "    except:\n",
    "        createdDate = None\n",
    "\n",
    "    if createdDate is not None:\n",
    "        domainAge = (datetime.now() - createdDate).days\n",
    "    return domainAge, Registrar\n",
    "\n",
    "# Example usage\n",
    "hostname = \"example.com\"\n",
    "try:\n",
    "    domain_age, registrar = getDomainAge(hostname)\n",
    "    print(f\"Domain Age: {domain_age} days, Registrar: {registrar}\")\n",
    "except TimeoutError:\n",
    "    print(\"WHOIS request timed out\")\n",
    "except Exception as e:\n",
    "    print(f\"An error occurred: {e}\")\n"
   ]
  },
  {
   "cell_type": "code",
   "execution_count": 8,
   "metadata": {
    "id": "en9dRBWlVv_4"
   },
   "outputs": [],
   "source": [
    "def check_website(url):\n",
    "  results = [False,False]\n",
    "  try:\n",
    "    response = requests.get(url,timeout = 10)\n",
    "    response.raise_for_status()  # Raise exception for non-200 status codes\n",
    "  except requests.exceptions.RequestException as e:\n",
    "    return results\n",
    "  if response.headers.get(\"Content-Security-Policy\", \"\").find(\"frame-ancestors\") != -1:\n",
    "    results[0] = True\n",
    "  if response.history:\n",
    "    results[1] = True\n",
    "  return results\n"
   ]
  },
  {
   "cell_type": "code",
   "execution_count": 9,
   "metadata": {
    "id": "DAVUuyl5s-rs"
   },
   "outputs": [],
   "source": [
    "def getPageRank(domain):\n",
    "  url = 'https://openpagerank.com/api/v1.0/getPageRank'\n",
    "  query = {'domains[]': [domain]}\n",
    "\n",
    "  headers = {'API-OPR': 'API_KEY'}\n",
    "\n",
    "  response = requests.get(url, headers=headers, params=query)\n",
    "  return (response.json()['response'][0]['rank'])"
   ]
  },
  {
   "cell_type": "code",
   "execution_count": 10,
   "metadata": {
    "id": "tuCQo45Zqmqg"
   },
   "outputs": [],
   "source": [
    "def getURLFeatures(url):\n",
    "  features = {}\n",
    "\n",
    "  features['urlLength'] = len(url)\n",
    "\n",
    "  try:\n",
    "    features['urlDepth'] = calculateURLDepth(url)\n",
    "  except ValueError as e:\n",
    "        features['urlDepth'] = None  # Handle potential invalid URLs gracefully\n",
    "        print(f\"Error calculating URL depth for {url}: {e}\")\n",
    "\n",
    "  features['isShort'] = isShortened(url)\n",
    "  features['hasIP'] = hasIP(url)\n",
    "  features['hasEmail'] = hasEmail(url)\n",
    "  features['protocol'] = protocol(url)\n",
    "  features['misleadingChars'] = hasMisleadingChars(url)\n",
    "  features['domain'] = getDomain(url)\n",
    "  features['domainAge'],features['registrar'] = getDomainAge(features['domain'])\n",
    "  features['sslAge']= getSSLAge(features['domain'])\n",
    "  # features['IFrameRedirection'],features['WebsiteForwarding'] = check_website(url)\n",
    "  features['PageRank'] = getPageRank(features['domain'])\n",
    "  features['@present'] = url.count('@')\n",
    "  features['//present'] = url.count('//')\n",
    "  return features"
   ]
  },
  {
   "cell_type": "code",
   "execution_count": 11,
   "metadata": {
    "colab": {
     "base_uri": "https://localhost:8080/"
    },
    "id": "68ttXuQtaiNQ",
    "outputId": "8de43324-6174-4467-992f-307812cfd7a2"
   },
   "outputs": [
    {
     "data": {
      "text/plain": [
       "['urlLength',\n",
       " 'urlDepth',\n",
       " 'isShort',\n",
       " 'hasIP',\n",
       " 'hasEmail',\n",
       " 'protocol',\n",
       " 'misleadingChars',\n",
       " 'domain',\n",
       " 'domainAge',\n",
       " 'registrar',\n",
       " 'sslAge',\n",
       " 'PageRank',\n",
       " '@present',\n",
       " '//present',\n",
       " 'URL']"
      ]
     },
     "execution_count": 11,
     "metadata": {},
     "output_type": "execute_result"
    }
   ],
   "source": [
    "featureHeadings = list(getURLFeatures(url).keys())\n",
    "featureHeadings.append(\"URL\")\n",
    "featureHeadings"
   ]
  },
  {
   "cell_type": "code",
   "execution_count": null,
   "metadata": {
    "colab": {
     "background_save": true,
     "base_uri": "https://localhost:8080/"
    },
    "id": "o9OmijrPimf6",
    "outputId": "4ac9733c-c222-4384-9f09-3eca20cf589a"
   },
   "outputs": [
    {
     "name": "stderr",
     "output_type": "stream",
     "text": [
      "2024-07-17 11:31:09,272 - whois.whois - ERROR - Error trying to connect to socket: closing socket - [Errno 11001] getaddrinfo failed\n"
     ]
    },
    {
     "name": "stdout",
     "output_type": "stream",
     "text": [
      "Error processing https://www.luizalabs.com\n",
      "Error processing https://www.zhengrig.com\n",
      "Error processing https://www.ip.sb\n"
     ]
    },
    {
     "name": "stderr",
     "output_type": "stream",
     "text": [
      "2024-07-17 11:35:19,100 - whois.whois - ERROR - Error trying to connect to socket: closing socket - timed out\n"
     ]
    },
    {
     "name": "stdout",
     "output_type": "stream",
     "text": [
      "Error processing https://www.voidboost.cc\n",
      "Error processing https://www.bitcointalk.org\n",
      "Error processing https://www.nsa.gov\n"
     ]
    },
    {
     "name": "stderr",
     "output_type": "stream",
     "text": [
      "2024-07-17 11:38:57,896 - whois.whois - ERROR - Error trying to connect to socket: closing socket - timed out\n"
     ]
    },
    {
     "name": "stdout",
     "output_type": "stream",
     "text": [
      "Error processing https://www.louisiana.gov\n",
      "Error processing https://www.withspotify.com\n",
      "Error processing https://www.taxssp.com\n",
      "Processed 14500 URLs\n",
      "Error processing https://www.unext.jp\n"
     ]
    },
    {
     "name": "stderr",
     "output_type": "stream",
     "text": [
      "2024-07-17 11:45:38,899 - whois.whois - ERROR - Error trying to connect to socket: closing socket - [Errno 11001] getaddrinfo failed\n"
     ]
    },
    {
     "name": "stdout",
     "output_type": "stream",
     "text": [
      "Error processing https://www.qlik.com\n"
     ]
    },
    {
     "name": "stderr",
     "output_type": "stream",
     "text": [
      "2024-07-17 11:46:33,390 - whois.whois - ERROR - Error trying to connect to socket: closing socket - [Errno 11001] getaddrinfo failed\n"
     ]
    },
    {
     "name": "stdout",
     "output_type": "stream",
     "text": [
      "Error processing https://www.postimage.org\n"
     ]
    },
    {
     "name": "stderr",
     "output_type": "stream",
     "text": [
      "2024-07-17 11:48:30,505 - whois.whois - ERROR - Error trying to connect to socket: closing socket - [Errno 11001] getaddrinfo failed\n"
     ]
    },
    {
     "name": "stdout",
     "output_type": "stream",
     "text": [
      "Error processing https://www.showvid.ws\n",
      "Error processing https://www.vidver.to\n"
     ]
    },
    {
     "name": "stderr",
     "output_type": "stream",
     "text": [
      "2024-07-17 11:49:33,410 - whois.whois - ERROR - Error trying to connect to socket: closing socket - timed out\n",
      "2024-07-17 11:52:41,828 - whois.whois - ERROR - Error trying to connect to socket: closing socket - [Errno 11001] getaddrinfo failed\n"
     ]
    },
    {
     "name": "stdout",
     "output_type": "stream",
     "text": [
      "Error processing https://www.blockpi.network\n",
      "Error processing https://www.simplesite.com\n"
     ]
    },
    {
     "name": "stderr",
     "output_type": "stream",
     "text": [
      "2024-07-17 11:56:20,194 - whois.whois - ERROR - Error trying to connect to socket: closing socket - [Errno 11001] getaddrinfo failed\n"
     ]
    },
    {
     "name": "stdout",
     "output_type": "stream",
     "text": [
      "Error processing https://www.cpmndl.com\n",
      "Error processing https://www.vstserv.com\n"
     ]
    },
    {
     "name": "stderr",
     "output_type": "stream",
     "text": [
      "2024-07-17 12:05:02,110 - whois.whois - ERROR - Error trying to connect to socket: closing socket - [Errno 11001] getaddrinfo failed\n"
     ]
    },
    {
     "name": "stdout",
     "output_type": "stream",
     "text": [
      "Error processing https://www.thetracker.org\n",
      "Error processing https://www.bankcomm.com\n",
      "Processed 15000 URLs\n",
      "Error processing https://www.jp.sharp\n"
     ]
    },
    {
     "name": "stderr",
     "output_type": "stream",
     "text": [
      "2024-07-17 12:13:36,360 - whois.whois - ERROR - Error trying to connect to socket: closing socket - [Errno 11001] getaddrinfo failed\n"
     ]
    },
    {
     "name": "stdout",
     "output_type": "stream",
     "text": [
      "Error processing https://www.canaryis.com\n"
     ]
    },
    {
     "name": "stderr",
     "output_type": "stream",
     "text": [
      "2024-07-17 12:17:41,300 - whois.whois - ERROR - Error trying to connect to socket: closing socket - [WinError 10054] An existing connection was forcibly closed by the remote host\n",
      "2024-07-17 12:19:19,508 - whois.whois - ERROR - Error trying to connect to socket: closing socket - [Errno 11001] getaddrinfo failed\n",
      "2024-07-17 12:21:11,367 - whois.whois - ERROR - Error trying to connect to socket: closing socket - [Errno 11001] getaddrinfo failed\n",
      "2024-07-17 12:23:22,496 - whois.whois - ERROR - Error trying to connect to socket: closing socket - [Errno 11001] getaddrinfo failed\n"
     ]
    },
    {
     "name": "stdout",
     "output_type": "stream",
     "text": [
      "Error processing https://www.schibsted.com\n",
      "Error processing https://www.nytrng.com\n",
      "Error processing https://www.rollserver.xyz\n",
      "Error processing https://www.chicago.gov\n"
     ]
    },
    {
     "name": "stderr",
     "output_type": "stream",
     "text": [
      "2024-07-17 12:32:26,365 - whois.whois - ERROR - Error trying to connect to socket: closing socket - timed out\n"
     ]
    },
    {
     "name": "stdout",
     "output_type": "stream",
     "text": [
      "Error processing https://www.pmoxuy.xyz\n",
      "Error processing https://www.jekyllrb.com\n",
      "Error processing https://www.seriemol.us\n"
     ]
    },
    {
     "name": "stderr",
     "output_type": "stream",
     "text": [
      "2024-07-17 12:38:37,549 - whois.whois - ERROR - Error trying to connect to socket: closing socket - [Errno 11001] getaddrinfo failed\n"
     ]
    },
    {
     "name": "stdout",
     "output_type": "stream",
     "text": [
      "Processed 15500 URLs\n",
      "Error processing https://www.uc.pt\n"
     ]
    },
    {
     "name": "stderr",
     "output_type": "stream",
     "text": [
      "2024-07-17 12:39:38,303 - whois.whois - ERROR - Error trying to connect to socket: closing socket - timed out\n"
     ]
    },
    {
     "name": "stdout",
     "output_type": "stream",
     "text": [
      "Error processing https://www.channelmyanmar.to\n"
     ]
    },
    {
     "name": "stderr",
     "output_type": "stream",
     "text": [
      "2024-07-17 12:44:16,292 - whois.whois - ERROR - Error trying to connect to socket: closing socket - timed out\n"
     ]
    },
    {
     "name": "stdout",
     "output_type": "stream",
     "text": [
      "Error processing https://www.allsaints.tv\n"
     ]
    },
    {
     "name": "stderr",
     "output_type": "stream",
     "text": [
      "2024-07-17 12:45:07,035 - whois.whois - ERROR - Error trying to connect to socket: closing socket - [Errno 11001] getaddrinfo failed\n",
      "2024-07-17 12:49:35,608 - whois.whois - ERROR - Error trying to connect to socket: closing socket - [Errno 11001] getaddrinfo failed\n"
     ]
    },
    {
     "name": "stdout",
     "output_type": "stream",
     "text": [
      "Error processing https://www.montevideo.com.uy\n"
     ]
    },
    {
     "name": "stderr",
     "output_type": "stream",
     "text": [
      "2024-07-17 12:51:32,257 - whois.whois - ERROR - Error trying to connect to socket: closing socket - timed out\n"
     ]
    },
    {
     "name": "stdout",
     "output_type": "stream",
     "text": [
      "Error processing https://www.neal.fun\n",
      "Error processing https://www.5b26y83h.com\n",
      "Error processing https://www.openwebmedia.org\n",
      "Error processing https://www.hexnodemdm.com\n"
     ]
    },
    {
     "name": "stderr",
     "output_type": "stream",
     "text": [
      "2024-07-17 13:02:09,428 - whois.whois - ERROR - Error trying to connect to socket: closing socket - [Errno 11001] getaddrinfo failed\n"
     ]
    },
    {
     "name": "stdout",
     "output_type": "stream",
     "text": [
      "Error processing https://www.qlikcloud.com\n",
      "Error processing https://www.hugoboss.com\n"
     ]
    },
    {
     "name": "stderr",
     "output_type": "stream",
     "text": [
      "2024-07-17 13:05:40,942 - whois.whois - ERROR - Error trying to connect to socket: closing socket - [Errno 11001] getaddrinfo failed\n"
     ]
    },
    {
     "name": "stdout",
     "output_type": "stream",
     "text": [
      "Processed 16000 URLs\n",
      "Error processing https://www.ipma.pt\n"
     ]
    },
    {
     "name": "stderr",
     "output_type": "stream",
     "text": [
      "2024-07-17 13:06:56,720 - whois.whois - ERROR - Error trying to connect to socket: closing socket - timed out\n"
     ]
    },
    {
     "name": "stdout",
     "output_type": "stream",
     "text": [
      "Error processing https://www.torrentgalaxy.to\n"
     ]
    },
    {
     "name": "stderr",
     "output_type": "stream",
     "text": [
      "2024-07-17 13:12:32,526 - whois.whois - ERROR - Error trying to connect to socket: closing socket - timed out\n"
     ]
    },
    {
     "name": "stdout",
     "output_type": "stream",
     "text": [
      "Error processing https://www.ulisboa.pt\n"
     ]
    },
    {
     "name": "stderr",
     "output_type": "stream",
     "text": [
      "2024-07-17 13:13:33,977 - whois.whois - ERROR - Error trying to connect to socket: closing socket - timed out\n"
     ]
    },
    {
     "name": "stdout",
     "output_type": "stream",
     "text": [
      "Error processing https://www.otherlevels.com\n",
      "Error processing https://www.cinecalidad.ec\n"
     ]
    },
    {
     "name": "stderr",
     "output_type": "stream",
     "text": [
      "2024-07-17 13:16:56,845 - whois.whois - ERROR - Error trying to connect to socket: closing socket - timed out\n",
      "2024-07-17 13:20:28,553 - whois.whois - ERROR - Error trying to connect to socket: closing socket - [Errno 11001] getaddrinfo failed\n",
      "2024-07-17 13:21:03,304 - whois.whois - ERROR - Error trying to connect to socket: closing socket - [Errno 11001] getaddrinfo failed\n"
     ]
    },
    {
     "name": "stdout",
     "output_type": "stream",
     "text": [
      "Error processing https://www.mdanderson.org\n"
     ]
    },
    {
     "name": "stderr",
     "output_type": "stream",
     "text": [
      "2024-07-17 13:27:48,328 - whois.whois - ERROR - Error trying to connect to socket: closing socket - [Errno 11001] getaddrinfo failed\n"
     ]
    },
    {
     "name": "stdout",
     "output_type": "stream",
     "text": [
      "Error processing https://www.elobservador.com.uy\n"
     ]
    },
    {
     "name": "stderr",
     "output_type": "stream",
     "text": [
      "2024-07-17 13:28:41,526 - whois.whois - ERROR - Error trying to connect to socket: closing socket - timed out\n"
     ]
    },
    {
     "name": "stdout",
     "output_type": "stream",
     "text": [
      "Error processing https://www.vocal.media\n",
      "Error processing https://www.pxlecdn.com\n",
      "Error processing https://www.postheaven.net\n",
      "Error processing https://www.insops.net\n",
      "Error processing https://www.tlsext.com\n"
     ]
    },
    {
     "name": "stderr",
     "output_type": "stream",
     "text": [
      "2024-07-17 13:32:42,727 - whois.whois - ERROR - Error trying to connect to socket: closing socket - [Errno 11001] getaddrinfo failed\n"
     ]
    },
    {
     "name": "stdout",
     "output_type": "stream",
     "text": [
      "Processed 16500 URLs\n",
      "Error processing https://www.repocket.co\n"
     ]
    },
    {
     "name": "stderr",
     "output_type": "stream",
     "text": [
      "2024-07-17 13:35:15,045 - whois.whois - ERROR - Error trying to connect to socket: closing socket - [Errno 11001] getaddrinfo failed\n",
      "2024-07-17 13:35:35,707 - whois.whois - ERROR - Error trying to connect to socket: closing socket - [Errno 11001] getaddrinfo failed\n",
      "2024-07-17 13:36:16,423 - whois.whois - ERROR - Error trying to connect to socket: closing socket - [Errno 11001] getaddrinfo failed\n"
     ]
    },
    {
     "name": "stdout",
     "output_type": "stream",
     "text": [
      "Error processing https://www.solo.to\n"
     ]
    },
    {
     "name": "stderr",
     "output_type": "stream",
     "text": [
      "2024-07-17 13:37:11,443 - whois.whois - ERROR - Error trying to connect to socket: closing socket - timed out\n"
     ]
    },
    {
     "name": "stdout",
     "output_type": "stream",
     "text": [
      "Error processing https://www.bsky.network\n"
     ]
    },
    {
     "name": "stderr",
     "output_type": "stream",
     "text": [
      "2024-07-17 13:45:32,583 - whois.whois - ERROR - Error trying to connect to socket: closing socket - [Errno 11001] getaddrinfo failed\n"
     ]
    },
    {
     "name": "stdout",
     "output_type": "stream",
     "text": [
      "Error processing https://www.maindnstech.com\n"
     ]
    },
    {
     "name": "stderr",
     "output_type": "stream",
     "text": [
      "2024-07-17 13:50:31,656 - whois.whois - ERROR - Error trying to connect to socket: closing socket - [Errno 11001] getaddrinfo failed\n",
      "2024-07-17 13:50:51,618 - whois.whois - ERROR - Error trying to connect to socket: closing socket - [Errno 11001] getaddrinfo failed\n",
      "2024-07-17 13:55:41,977 - whois.whois - ERROR - Error trying to connect to socket: closing socket - [Errno 11001] getaddrinfo failed\n",
      "2024-07-17 13:56:51,728 - whois.whois - ERROR - Error trying to connect to socket: closing socket - [Errno 11001] getaddrinfo failed\n"
     ]
    },
    {
     "name": "stdout",
     "output_type": "stream",
     "text": [
      "Error processing https://www.etihad.com\n",
      "Error processing https://www.education.dz\n"
     ]
    },
    {
     "name": "stderr",
     "output_type": "stream",
     "text": [
      "2024-07-17 13:59:14,631 - whois.whois - ERROR - Error trying to connect to socket: closing socket - timed out\n"
     ]
    },
    {
     "name": "stdout",
     "output_type": "stream",
     "text": [
      "Processed 17000 URLs\n",
      "Error processing https://www.mega777play.org\n",
      "Error processing https://www.adrtx.net\n",
      "Error processing https://www.nadimtogel288.com\n",
      "Error processing https://www.chrt.fm\n"
     ]
    },
    {
     "name": "stderr",
     "output_type": "stream",
     "text": [
      "2024-07-17 14:10:50,620 - whois.whois - ERROR - Error trying to connect to socket: closing socket - [Errno 11001] getaddrinfo failed\n"
     ]
    },
    {
     "name": "stdout",
     "output_type": "stream",
     "text": [
      "Error processing https://www.podchaser.com\n",
      "Error processing https://www.minigame.vip\n",
      "Error processing https://www.eesysoft.com\n"
     ]
    },
    {
     "name": "stderr",
     "output_type": "stream",
     "text": [
      "2024-07-17 14:18:13,620 - whois.whois - ERROR - Error trying to connect to socket: closing socket - [Errno 11001] getaddrinfo failed\n",
      "2024-07-17 14:18:38,261 - whois.whois - ERROR - Error trying to connect to socket: closing socket - [Errno 11001] getaddrinfo failed\n"
     ]
    },
    {
     "name": "stdout",
     "output_type": "stream",
     "text": [
      "Error processing https://www.olx.pt\n"
     ]
    },
    {
     "name": "stderr",
     "output_type": "stream",
     "text": [
      "2024-07-17 14:22:21,706 - whois.whois - ERROR - Error trying to connect to socket: closing socket - timed out\n"
     ]
    },
    {
     "name": "stdout",
     "output_type": "stream",
     "text": [
      "Error processing https://www.changelly.com\n"
     ]
    },
    {
     "name": "stderr",
     "output_type": "stream",
     "text": [
      "2024-07-17 14:24:19,823 - whois.whois - ERROR - Error trying to connect to socket: closing socket - [Errno 11001] getaddrinfo failed\n",
      "2024-07-17 14:24:45,357 - whois.whois - ERROR - Error trying to connect to socket: closing socket - [Errno 11001] getaddrinfo failed\n"
     ]
    },
    {
     "name": "stdout",
     "output_type": "stream",
     "text": [
      "Error processing https://www.jn.pt\n"
     ]
    },
    {
     "name": "stderr",
     "output_type": "stream",
     "text": [
      "2024-07-17 14:26:55,163 - whois.whois - ERROR - Error trying to connect to socket: closing socket - timed out\n"
     ]
    },
    {
     "name": "stdout",
     "output_type": "stream",
     "text": [
      "Error processing https://www.honeytoon.com\n",
      "Processed 17500 URLs\n",
      "Error processing https://www.nimbusweb.me\n"
     ]
    },
    {
     "name": "stderr",
     "output_type": "stream",
     "text": [
      "2024-07-17 14:29:23,811 - whois.whois - ERROR - Error trying to connect to socket: closing socket - [Errno 11001] getaddrinfo failed\n"
     ]
    },
    {
     "name": "stdout",
     "output_type": "stream",
     "text": [
      "Error processing https://www.cbi.ir\n"
     ]
    },
    {
     "name": "stderr",
     "output_type": "stream",
     "text": [
      "2024-07-17 14:30:14,305 - whois.whois - ERROR - Error trying to connect to socket: closing socket - timed out\n"
     ]
    },
    {
     "name": "stdout",
     "output_type": "stream",
     "text": [
      "Error processing https://www.sri.gob.ec\n"
     ]
    },
    {
     "name": "stderr",
     "output_type": "stream",
     "text": [
      "2024-07-17 14:30:50,852 - whois.whois - ERROR - Error trying to connect to socket: closing socket - timed out\n"
     ]
    },
    {
     "name": "stdout",
     "output_type": "stream",
     "text": [
      "Error processing https://www.trovit.com\n",
      "Error processing https://www.jobs2web.com\n",
      "Error processing https://www.pirelli.com\n"
     ]
    },
    {
     "name": "stderr",
     "output_type": "stream",
     "text": [
      "2024-07-17 14:37:00,706 - whois.whois - ERROR - Error trying to connect to socket: closing socket - [Errno 11001] getaddrinfo failed\n"
     ]
    },
    {
     "name": "stdout",
     "output_type": "stream",
     "text": [
      "Error processing https://www.motogp.com\n",
      "Error processing https://www.salla.sa\n",
      "Error processing https://www.egcvi.com\n",
      "Error processing https://www.rocketreach.co\n"
     ]
    },
    {
     "name": "stderr",
     "output_type": "stream",
     "text": [
      "2024-07-17 14:51:08,351 - whois.whois - ERROR - Error trying to connect to socket: closing socket - [Errno 11001] getaddrinfo failed\n",
      "2024-07-17 14:51:14,769 - whois.whois - ERROR - Error trying to connect to socket: closing socket - [Errno 11001] getaddrinfo failed\n"
     ]
    },
    {
     "name": "stdout",
     "output_type": "stream",
     "text": [
      "Error processing https://www.bhountyc.com\n",
      "Processed 18000 URLs\n",
      "Error processing https://www.djaweb.dz\n"
     ]
    },
    {
     "name": "stderr",
     "output_type": "stream",
     "text": [
      "2024-07-17 14:55:44,285 - whois.whois - ERROR - Error trying to connect to socket: closing socket - [Errno 11001] getaddrinfo failed\n",
      "2024-07-17 14:55:44,719 - whois.whois - ERROR - Error trying to connect to socket: closing socket - timed out\n",
      "2024-07-17 14:59:47,672 - whois.whois - ERROR - Error trying to connect to socket: closing socket - [Errno 11001] getaddrinfo failed\n"
     ]
    },
    {
     "name": "stdout",
     "output_type": "stream",
     "text": [
      "Error processing https://www.venngage.com\n",
      "Error processing https://www.joinhandshake.com\n",
      "Error processing https://www.icegay.tv\n"
     ]
    },
    {
     "name": "stderr",
     "output_type": "stream",
     "text": [
      "2024-07-17 15:12:34,873 - whois.whois - ERROR - Error trying to connect to socket: closing socket - [Errno 11001] getaddrinfo failed\n"
     ]
    },
    {
     "name": "stdout",
     "output_type": "stream",
     "text": [
      "Error processing https://www.rtp.pt\n"
     ]
    },
    {
     "name": "stderr",
     "output_type": "stream",
     "text": [
      "2024-07-17 15:13:37,003 - whois.whois - ERROR - Error trying to connect to socket: closing socket - timed out\n"
     ]
    },
    {
     "name": "stdout",
     "output_type": "stream",
     "text": [
      "Error processing https://www.iam.gov.sa\n",
      "Error processing https://www.beliefnet.com\n"
     ]
    },
    {
     "name": "stderr",
     "output_type": "stream",
     "text": [
      "2024-07-17 15:14:27,720 - whois.whois - ERROR - Error trying to connect to socket: closing socket - [Errno 11002] getaddrinfo failed\n",
      "2024-07-17 15:16:27,332 - whois.whois - ERROR - Error trying to connect to socket: closing socket - [Errno 11001] getaddrinfo failed\n"
     ]
    },
    {
     "name": "stdout",
     "output_type": "stream",
     "text": [
      "Error processing https://www.movies7.to\n"
     ]
    },
    {
     "name": "stderr",
     "output_type": "stream",
     "text": [
      "2024-07-17 15:17:15,914 - whois.whois - ERROR - Error trying to connect to socket: closing socket - timed out\n"
     ]
    }
   ],
   "source": [
    "goodWebsiteFeatures = pd.DataFrame(columns=featureHeadings)\n",
    "i = 0\n",
    "for url in goodWebsites:\n",
    "  url = \"https://www.\"+url\n",
    "  i += 1\n",
    "  if i % 500 == 0:\n",
    "    print(f\"Processed {i} URLs\")\n",
    "    goodWebsiteFeatures.to_csv('good_website_featues'+str(i)+'.csv')\n",
    "  try:\n",
    "      features = getURLFeatures(url)\n",
    "      features['URL'] = url\n",
    "      goodWebsiteFeatures = pd.concat([goodWebsiteFeatures, pd.DataFrame([features])], ignore_index=True)\n",
    "  except:\n",
    "      print(f\"Error processing {url}\")\n"
   ]
  },
  {
   "cell_type": "code",
   "execution_count": null,
   "metadata": {},
   "outputs": [],
   "source": [
    "goodWebsites.head()"
   ]
  },
  {
   "cell_type": "code",
   "execution_count": null,
   "metadata": {
    "id": "eNcXDfNdT1jL"
   },
   "outputs": [],
   "source": [
    "badWebsiteFeatures = pd.read_csv(\"bad_website_features15000.csv\")"
   ]
  },
  {
   "cell_type": "code",
   "execution_count": null,
   "metadata": {
    "id": "8dtsup5IUDkq"
   },
   "outputs": [],
   "source": [
    "badWebsiteFeatures.describe()"
   ]
  },
  {
   "cell_type": "code",
   "execution_count": null,
   "metadata": {},
   "outputs": [],
   "source": []
  },
  {
   "cell_type": "code",
   "execution_count": null,
   "metadata": {
    "id": "vLLs97tnU730"
   },
   "outputs": [],
   "source": [
    "# from multiprocessing import Pool\n",
    "# urls = badWebsites.tolist()\n",
    "\n",
    "# # Use a Pool of worker processes\n",
    "# with Pool(processes=4) as pool:  # Adjust the number of processes as needed\n",
    "#   features_list = pool.starmap(getURLFeatures, [(url,) for url in urls]) # Use the correct function name here\n",
    "\n",
    "# bad_website_features = pd.DataFrame(columns=features_list[0].keys())\n",
    "# for features in features_list:\n",
    "#   bad_website_features = pd.concat([bad_website_features, pd.DataFrame([features])], ignore_index=True)"
   ]
  },
  {
   "cell_type": "code",
   "execution_count": null,
   "metadata": {},
   "outputs": [],
   "source": []
  }
 ],
 "metadata": {
  "colab": {
   "provenance": []
  },
  "kernelspec": {
   "display_name": "Python 3 (ipykernel)",
   "language": "python",
   "name": "python3"
  },
  "language_info": {
   "codemirror_mode": {
    "name": "ipython",
    "version": 3
   },
   "file_extension": ".py",
   "mimetype": "text/x-python",
   "name": "python",
   "nbconvert_exporter": "python",
   "pygments_lexer": "ipython3",
   "version": "3.11.4"
  }
 },
 "nbformat": 4,
 "nbformat_minor": 4
}
