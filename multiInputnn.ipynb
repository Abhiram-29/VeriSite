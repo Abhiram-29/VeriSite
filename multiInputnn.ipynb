{
 "cells": [
  {
   "cell_type": "markdown",
   "id": "de135cda-0ea1-4d54-b529-b801df7c93b0",
   "metadata": {},
   "source": [
    "<h2>Multi Input Neural network</h2>\n",
    "As bert_output can overshadow the importance of other features, we first train a branch of the neural network\n",
    "on other features, then combine it with the branch trained on the dominant feature"
   ]
  },
  {
   "cell_type": "code",
   "execution_count": 1,
   "id": "135fae7d-6bea-4a7e-ac54-ada7ff785c57",
   "metadata": {},
   "outputs": [],
   "source": [
    "import torch\n",
    "import torch.nn as nn\n",
    "import torch.optim as optim\n",
    "from torch.utils.data import Dataset,DataLoader\n",
    "import numpy as np\n",
    "import pandas as pd\n",
    "from sklearn.model_selection import train_test_split\n",
    "from sklearn.preprocessing import StandardScaler\n",
    "from urllib.parse import urlparse\n",
    "import re\n",
    "import unicodedata"
   ]
  },
  {
   "cell_type": "code",
   "execution_count": 2,
   "id": "7c95a24b-6062-4038-8a81-94892d159502",
   "metadata": {},
   "outputs": [],
   "source": [
    "def hasMisleadingChars(url):\n",
    "  for char in url:\n",
    "    if not (char.isascii() or char.isspace()):\n",
    "      category = unicodedata.category(char)\n",
    "      if category.startswith(\"L\") and not unicodedata.combining(char):\n",
    "        return True\n",
    "  return  False\n",
    "\n",
    "def extract_url_features(url,bert_output):\n",
    "    url = url.strip().lower()\n",
    "    protocol = 1 if urlparse(url).scheme == 'https' else 0\n",
    "    url = re.sub(r\"https?://\",\"\",url)\n",
    "    parts = url.split(\"/\",1)\n",
    "    domain = parts[0]\n",
    "    path = parts[1] if len(parts)>1 else \"\"\n",
    "\n",
    "    features = {\n",
    "        \"domain_length\" : len(domain),\n",
    "        \"subdomains\" : domain.count('.'),\n",
    "        'num_dots': url.count('.'),\n",
    "         'num_equals': url.count('='),\n",
    "         'protocol': protocol,\n",
    "        \"missing_chars\": hasMisleadingChars(url),\n",
    "        'bert_output': bert_output\n",
    "    }\n",
    "\n",
    "    return list(features.values())"
   ]
  },
  {
   "cell_type": "code",
   "execution_count": 3,
   "id": "7f3a3248-6d8a-446d-ab32-07927071987f",
   "metadata": {},
   "outputs": [],
   "source": [
    "nn_data = pd.read_csv(\"./bertDataV3.csv\")\n",
    "nn_data['type']  = nn_data['type'].map(lambda x: 1 if x == 'benign' else 0)\n",
    "X = X = np.array(nn_data.apply(lambda row: extract_url_features(row['url'], row['bert_output']), axis=1).tolist())\n",
    "y = np.array(nn_data['type'])\n",
    "nn_data = pd.read_csv(\"./bertDataV3.csv\")\n",
    "nn_data['type']  = nn_data['type'].map(lambda x: 1 if x == 'benign' else 0)\n",
    "X_train,X_test,y_train,y_val = train_test_split(X,y,random_state=0,test_size=0.15)"
   ]
  },
  {
   "cell_type": "code",
   "execution_count": 4,
   "id": "d9d3f2d1-8ee2-4b28-be75-0bc724c61f55",
   "metadata": {},
   "outputs": [],
   "source": [
    "scaler = StandardScaler()\n",
    "other_train_scaled = scaler.fit_transform(X_train[:,:-1])\n",
    "other_val_scaled = scaler.transform(X_test[:,:-1])\n",
    "dominant_train = X_train[:,-1]\n",
    "dominant_val = X_test[:,-1]"
   ]
  },
  {
   "cell_type": "code",
   "execution_count": 5,
   "id": "d67c00ad-1664-4f94-a3e0-a37f75bd0886",
   "metadata": {},
   "outputs": [],
   "source": [
    "class MultiInputDataset(Dataset):\n",
    "    def __init__(self,X_dominant,X_other,y):\n",
    "        self.X_dominant = torch.tensor(X_dominant,dtype=torch.float32) \n",
    "        self.X_other = torch.tensor(X_other,dtype=torch.float32)\n",
    "        self.y = torch.tensor(y,dtype = torch.float32)\n",
    "\n",
    "        assert self.X_dominant.shape[0] == self.X_other.shape[0] == self.y.shape[0], \"Number of samples mismatch between inputs and target\"\n",
    "        if len(self.X_dominant.shape) == 1:\n",
    "            self.X_dominant = self.X_dominant.unsqueeze(1)\n",
    "\n",
    "    def  __len__(self): \n",
    "        return len(self.y) \n",
    "\n",
    "    def __getitem__(self,idx):\n",
    "        return self.X_dominant[idx],self.X_other[idx],self.y[idx] \n",
    "        "
   ]
  },
  {
   "cell_type": "code",
   "execution_count": 6,
   "id": "5a0e456b-ce85-4db5-96c4-c836436e208b",
   "metadata": {},
   "outputs": [],
   "source": [
    "class MultiInputNN(nn.Module): \n",
    "    def __init__(self,num_other_features):\n",
    "        super(MultiInputNN, self).__init__()\n",
    "\n",
    "        self.dominant_path = nn.Sequential(\n",
    "            nn.Linear(1,1),\n",
    "            nn.ReLU(),\n",
    "            nn.Dropout(0.4)\n",
    "        )\n",
    "\n",
    "        self.other_path = nn.Sequential(\n",
    "            nn.Linear(num_other_features,4),\n",
    "            nn.ReLU(),\n",
    "            nn.BatchNorm1d(4), \n",
    "            nn.Dropout(0.3),\n",
    "        )\n",
    "        combined_input = 1+4\n",
    "        self.combined_path = nn.Sequential(\n",
    "            nn.Linear(combined_input,4),\n",
    "            nn.ReLU(),\n",
    "            nn.Dropout(0.3),\n",
    "            nn.BatchNorm1d(4),\n",
    "            nn.Linear(4,1)\n",
    "        )\n",
    "\n",
    "    def forward(self,input_dominant,input_other):\n",
    "        out_dominant = self.dominant_path(input_dominant)\n",
    "\n",
    "        out_other = self.other_path(input_other)\n",
    "\n",
    "        combined = torch.cat((out_dominant,out_other),dim = 1)\n",
    "\n",
    "        final_output = self.combined_path(combined)\n",
    "\n",
    "        return final_output    "
   ]
  },
  {
   "cell_type": "code",
   "execution_count": 8,
   "id": "7631d05d-4c39-4b9c-835f-e3bacbe74408",
   "metadata": {},
   "outputs": [],
   "source": [
    "batch_size = 64\n",
    "train_dataset = MultiInputDataset(dominant_train,other_train_scaled,y_train)\n",
    "val_dataset = MultiInputDataset(dominant_val,other_val_scaled,y_val)\n",
    "\n",
    "num_other_features = other_val_scaled.shape[1]"
   ]
  },
  {
   "cell_type": "code",
   "execution_count": 9,
   "id": "0915c48e-ed20-4a06-b291-f8558ac4e154",
   "metadata": {},
   "outputs": [],
   "source": [
    "model = MultiInputNN(num_other_features=num_other_features)\n",
    "\n",
    "criterion = nn.BCEWithLogitsLoss()\n",
    "learning_rate = 0.00001\n",
    "optimizer = optim.AdamW(model.parameters(),lr=learning_rate,weight_decay=1e-4)"
   ]
  },
  {
   "cell_type": "code",
   "execution_count": 10,
   "id": "b9bec395-d101-4a93-a693-bd0557506a9b",
   "metadata": {},
   "outputs": [
    {
     "name": "stdout",
     "output_type": "stream",
     "text": [
      "using device cuda\n"
     ]
    }
   ],
   "source": [
    "num_epochs = 30\n",
    "device = torch.device(\"cuda\" if torch.cuda.is_available() else \"cpu\")\n",
    "model.to(device)\n",
    "print(f\"using device {device}\")"
   ]
  },
  {
   "cell_type": "code",
   "execution_count": 11,
   "id": "f11ca48e-031c-4885-9b79-209fed9225da",
   "metadata": {},
   "outputs": [],
   "source": [
    "train_losses = []\n",
    "val_losses = []\n",
    "train_accuracys = []\n",
    "val_accuracys = []\n",
    "best_val_loss = float('inf')\n",
    "best_model_path = \"nnSaves/multiInput\""
   ]
  },
  {
   "cell_type": "code",
   "execution_count": 12,
   "id": "aee581ee-3c6a-45aa-99b7-dda235a82e68",
   "metadata": {},
   "outputs": [],
   "source": [
    "train_loader = DataLoader(train_dataset, batch_size=batch_size, shuffle=True)\n",
    "val_loader = DataLoader(val_dataset, batch_size=batch_size, shuffle=False)"
   ]
  },
  {
   "cell_type": "code",
   "execution_count": 13,
   "id": "a9a8061b-de45-4931-b1ee-8a0a952dcb7e",
   "metadata": {},
   "outputs": [
    {
     "name": "stdout",
     "output_type": "stream",
     "text": [
      "--- Model's first layer weight device: cuda:0 ---\n"
     ]
    }
   ],
   "source": [
    "try:\n",
    "    # Check the device of the weight of the first linear layer in dominant_path\n",
    "    first_layer_weight_device = next(model.dominant_path.parameters()).device\n",
    "    print(f\"--- Model's first layer weight device: {first_layer_weight_device} ---\")\n",
    "except StopIteration:\n",
    "    print(\"--- Could not find parameters in model.dominant_path (Check model definition) ---\")"
   ]
  },
  {
   "cell_type": "code",
   "execution_count": 14,
   "id": "52346bce-8983-406e-bbda-24b4fe6001e3",
   "metadata": {},
   "outputs": [
    {
     "name": "stdout",
     "output_type": "stream",
     "text": [
      "Epoch [1/30], Train Loss: 0.0000, Val Loss: 0.6874, Val Acc: 0.08%\n",
      "Epoch [2/30], Train Loss: 0.0000, Val Loss: 0.6575, Val Acc: 0.08%\n"
     ]
    },
    {
     "ename": "KeyboardInterrupt",
     "evalue": "",
     "output_type": "error",
     "traceback": [
      "\u001b[31m---------------------------------------------------------------------------\u001b[39m",
      "\u001b[31mKeyboardInterrupt\u001b[39m                         Traceback (most recent call last)",
      "\u001b[36mCell\u001b[39m\u001b[36m \u001b[39m\u001b[32mIn[14]\u001b[39m\u001b[32m, line 9\u001b[39m\n\u001b[32m      6\u001b[39m dom_batch,oth_batch,labels_batch = dom_batch.to(device),oth_batch.to(device),labels_batch.to(device)\n\u001b[32m      8\u001b[39m optimizer.zero_grad()\n\u001b[32m----> \u001b[39m\u001b[32m9\u001b[39m outputs = \u001b[43mmodel\u001b[49m\u001b[43m(\u001b[49m\u001b[43mdom_batch\u001b[49m\u001b[43m,\u001b[49m\u001b[43moth_batch\u001b[49m\u001b[43m)\u001b[49m\n\u001b[32m     10\u001b[39m loss = criterion(outputs,labels_batch.unsqueeze(\u001b[32m1\u001b[39m))\n\u001b[32m     11\u001b[39m loss.backward()\n",
      "\u001b[36mFile \u001b[39m\u001b[32m/mnt/c/Users/abhir/VeriSite/env/lib/python3.12/site-packages/torch/nn/modules/module.py:1739\u001b[39m, in \u001b[36mModule._wrapped_call_impl\u001b[39m\u001b[34m(self, *args, **kwargs)\u001b[39m\n\u001b[32m   1737\u001b[39m     \u001b[38;5;28;01mreturn\u001b[39;00m \u001b[38;5;28mself\u001b[39m._compiled_call_impl(*args, **kwargs)  \u001b[38;5;66;03m# type: ignore[misc]\u001b[39;00m\n\u001b[32m   1738\u001b[39m \u001b[38;5;28;01melse\u001b[39;00m:\n\u001b[32m-> \u001b[39m\u001b[32m1739\u001b[39m     \u001b[38;5;28;01mreturn\u001b[39;00m \u001b[38;5;28;43mself\u001b[39;49m\u001b[43m.\u001b[49m\u001b[43m_call_impl\u001b[49m\u001b[43m(\u001b[49m\u001b[43m*\u001b[49m\u001b[43margs\u001b[49m\u001b[43m,\u001b[49m\u001b[43m \u001b[49m\u001b[43m*\u001b[49m\u001b[43m*\u001b[49m\u001b[43mkwargs\u001b[49m\u001b[43m)\u001b[49m\n",
      "\u001b[36mFile \u001b[39m\u001b[32m/mnt/c/Users/abhir/VeriSite/env/lib/python3.12/site-packages/torch/nn/modules/module.py:1750\u001b[39m, in \u001b[36mModule._call_impl\u001b[39m\u001b[34m(self, *args, **kwargs)\u001b[39m\n\u001b[32m   1745\u001b[39m \u001b[38;5;66;03m# If we don't have any hooks, we want to skip the rest of the logic in\u001b[39;00m\n\u001b[32m   1746\u001b[39m \u001b[38;5;66;03m# this function, and just call forward.\u001b[39;00m\n\u001b[32m   1747\u001b[39m \u001b[38;5;28;01mif\u001b[39;00m \u001b[38;5;129;01mnot\u001b[39;00m (\u001b[38;5;28mself\u001b[39m._backward_hooks \u001b[38;5;129;01mor\u001b[39;00m \u001b[38;5;28mself\u001b[39m._backward_pre_hooks \u001b[38;5;129;01mor\u001b[39;00m \u001b[38;5;28mself\u001b[39m._forward_hooks \u001b[38;5;129;01mor\u001b[39;00m \u001b[38;5;28mself\u001b[39m._forward_pre_hooks\n\u001b[32m   1748\u001b[39m         \u001b[38;5;129;01mor\u001b[39;00m _global_backward_pre_hooks \u001b[38;5;129;01mor\u001b[39;00m _global_backward_hooks\n\u001b[32m   1749\u001b[39m         \u001b[38;5;129;01mor\u001b[39;00m _global_forward_hooks \u001b[38;5;129;01mor\u001b[39;00m _global_forward_pre_hooks):\n\u001b[32m-> \u001b[39m\u001b[32m1750\u001b[39m     \u001b[38;5;28;01mreturn\u001b[39;00m \u001b[43mforward_call\u001b[49m\u001b[43m(\u001b[49m\u001b[43m*\u001b[49m\u001b[43margs\u001b[49m\u001b[43m,\u001b[49m\u001b[43m \u001b[49m\u001b[43m*\u001b[49m\u001b[43m*\u001b[49m\u001b[43mkwargs\u001b[49m\u001b[43m)\u001b[49m\n\u001b[32m   1752\u001b[39m result = \u001b[38;5;28;01mNone\u001b[39;00m\n\u001b[32m   1753\u001b[39m called_always_called_hooks = \u001b[38;5;28mset\u001b[39m()\n",
      "\u001b[36mCell\u001b[39m\u001b[36m \u001b[39m\u001b[32mIn[6]\u001b[39m\u001b[32m, line 29\u001b[39m, in \u001b[36mMultiInputNN.forward\u001b[39m\u001b[34m(self, input_dominant, input_other)\u001b[39m\n\u001b[32m     26\u001b[39m \u001b[38;5;28;01mdef\u001b[39;00m\u001b[38;5;250m \u001b[39m\u001b[34mforward\u001b[39m(\u001b[38;5;28mself\u001b[39m,input_dominant,input_other):\n\u001b[32m     27\u001b[39m     out_dominant = \u001b[38;5;28mself\u001b[39m.dominant_path(input_dominant)\n\u001b[32m---> \u001b[39m\u001b[32m29\u001b[39m     out_other = \u001b[38;5;28;43mself\u001b[39;49m\u001b[43m.\u001b[49m\u001b[43mother_path\u001b[49m\u001b[43m(\u001b[49m\u001b[43minput_other\u001b[49m\u001b[43m)\u001b[49m\n\u001b[32m     31\u001b[39m     combined = torch.cat((out_dominant,out_other),dim = \u001b[32m1\u001b[39m)\n\u001b[32m     33\u001b[39m     final_output = \u001b[38;5;28mself\u001b[39m.combined_path(combined)\n",
      "\u001b[36mFile \u001b[39m\u001b[32m/mnt/c/Users/abhir/VeriSite/env/lib/python3.12/site-packages/torch/nn/modules/module.py:1739\u001b[39m, in \u001b[36mModule._wrapped_call_impl\u001b[39m\u001b[34m(self, *args, **kwargs)\u001b[39m\n\u001b[32m   1737\u001b[39m     \u001b[38;5;28;01mreturn\u001b[39;00m \u001b[38;5;28mself\u001b[39m._compiled_call_impl(*args, **kwargs)  \u001b[38;5;66;03m# type: ignore[misc]\u001b[39;00m\n\u001b[32m   1738\u001b[39m \u001b[38;5;28;01melse\u001b[39;00m:\n\u001b[32m-> \u001b[39m\u001b[32m1739\u001b[39m     \u001b[38;5;28;01mreturn\u001b[39;00m \u001b[38;5;28;43mself\u001b[39;49m\u001b[43m.\u001b[49m\u001b[43m_call_impl\u001b[49m\u001b[43m(\u001b[49m\u001b[43m*\u001b[49m\u001b[43margs\u001b[49m\u001b[43m,\u001b[49m\u001b[43m \u001b[49m\u001b[43m*\u001b[49m\u001b[43m*\u001b[49m\u001b[43mkwargs\u001b[49m\u001b[43m)\u001b[49m\n",
      "\u001b[36mFile \u001b[39m\u001b[32m/mnt/c/Users/abhir/VeriSite/env/lib/python3.12/site-packages/torch/nn/modules/module.py:1750\u001b[39m, in \u001b[36mModule._call_impl\u001b[39m\u001b[34m(self, *args, **kwargs)\u001b[39m\n\u001b[32m   1745\u001b[39m \u001b[38;5;66;03m# If we don't have any hooks, we want to skip the rest of the logic in\u001b[39;00m\n\u001b[32m   1746\u001b[39m \u001b[38;5;66;03m# this function, and just call forward.\u001b[39;00m\n\u001b[32m   1747\u001b[39m \u001b[38;5;28;01mif\u001b[39;00m \u001b[38;5;129;01mnot\u001b[39;00m (\u001b[38;5;28mself\u001b[39m._backward_hooks \u001b[38;5;129;01mor\u001b[39;00m \u001b[38;5;28mself\u001b[39m._backward_pre_hooks \u001b[38;5;129;01mor\u001b[39;00m \u001b[38;5;28mself\u001b[39m._forward_hooks \u001b[38;5;129;01mor\u001b[39;00m \u001b[38;5;28mself\u001b[39m._forward_pre_hooks\n\u001b[32m   1748\u001b[39m         \u001b[38;5;129;01mor\u001b[39;00m _global_backward_pre_hooks \u001b[38;5;129;01mor\u001b[39;00m _global_backward_hooks\n\u001b[32m   1749\u001b[39m         \u001b[38;5;129;01mor\u001b[39;00m _global_forward_hooks \u001b[38;5;129;01mor\u001b[39;00m _global_forward_pre_hooks):\n\u001b[32m-> \u001b[39m\u001b[32m1750\u001b[39m     \u001b[38;5;28;01mreturn\u001b[39;00m \u001b[43mforward_call\u001b[49m\u001b[43m(\u001b[49m\u001b[43m*\u001b[49m\u001b[43margs\u001b[49m\u001b[43m,\u001b[49m\u001b[43m \u001b[49m\u001b[43m*\u001b[49m\u001b[43m*\u001b[49m\u001b[43mkwargs\u001b[49m\u001b[43m)\u001b[49m\n\u001b[32m   1752\u001b[39m result = \u001b[38;5;28;01mNone\u001b[39;00m\n\u001b[32m   1753\u001b[39m called_always_called_hooks = \u001b[38;5;28mset\u001b[39m()\n",
      "\u001b[36mFile \u001b[39m\u001b[32m/mnt/c/Users/abhir/VeriSite/env/lib/python3.12/site-packages/torch/nn/modules/container.py:250\u001b[39m, in \u001b[36mSequential.forward\u001b[39m\u001b[34m(self, input)\u001b[39m\n\u001b[32m    248\u001b[39m \u001b[38;5;28;01mdef\u001b[39;00m\u001b[38;5;250m \u001b[39m\u001b[34mforward\u001b[39m(\u001b[38;5;28mself\u001b[39m, \u001b[38;5;28minput\u001b[39m):\n\u001b[32m    249\u001b[39m     \u001b[38;5;28;01mfor\u001b[39;00m module \u001b[38;5;129;01min\u001b[39;00m \u001b[38;5;28mself\u001b[39m:\n\u001b[32m--> \u001b[39m\u001b[32m250\u001b[39m         \u001b[38;5;28minput\u001b[39m = \u001b[43mmodule\u001b[49m\u001b[43m(\u001b[49m\u001b[38;5;28;43minput\u001b[39;49m\u001b[43m)\u001b[49m\n\u001b[32m    251\u001b[39m     \u001b[38;5;28;01mreturn\u001b[39;00m \u001b[38;5;28minput\u001b[39m\n",
      "\u001b[36mFile \u001b[39m\u001b[32m/mnt/c/Users/abhir/VeriSite/env/lib/python3.12/site-packages/torch/nn/modules/module.py:1739\u001b[39m, in \u001b[36mModule._wrapped_call_impl\u001b[39m\u001b[34m(self, *args, **kwargs)\u001b[39m\n\u001b[32m   1737\u001b[39m     \u001b[38;5;28;01mreturn\u001b[39;00m \u001b[38;5;28mself\u001b[39m._compiled_call_impl(*args, **kwargs)  \u001b[38;5;66;03m# type: ignore[misc]\u001b[39;00m\n\u001b[32m   1738\u001b[39m \u001b[38;5;28;01melse\u001b[39;00m:\n\u001b[32m-> \u001b[39m\u001b[32m1739\u001b[39m     \u001b[38;5;28;01mreturn\u001b[39;00m \u001b[38;5;28;43mself\u001b[39;49m\u001b[43m.\u001b[49m\u001b[43m_call_impl\u001b[49m\u001b[43m(\u001b[49m\u001b[43m*\u001b[49m\u001b[43margs\u001b[49m\u001b[43m,\u001b[49m\u001b[43m \u001b[49m\u001b[43m*\u001b[49m\u001b[43m*\u001b[49m\u001b[43mkwargs\u001b[49m\u001b[43m)\u001b[49m\n",
      "\u001b[36mFile \u001b[39m\u001b[32m/mnt/c/Users/abhir/VeriSite/env/lib/python3.12/site-packages/torch/nn/modules/module.py:1750\u001b[39m, in \u001b[36mModule._call_impl\u001b[39m\u001b[34m(self, *args, **kwargs)\u001b[39m\n\u001b[32m   1745\u001b[39m \u001b[38;5;66;03m# If we don't have any hooks, we want to skip the rest of the logic in\u001b[39;00m\n\u001b[32m   1746\u001b[39m \u001b[38;5;66;03m# this function, and just call forward.\u001b[39;00m\n\u001b[32m   1747\u001b[39m \u001b[38;5;28;01mif\u001b[39;00m \u001b[38;5;129;01mnot\u001b[39;00m (\u001b[38;5;28mself\u001b[39m._backward_hooks \u001b[38;5;129;01mor\u001b[39;00m \u001b[38;5;28mself\u001b[39m._backward_pre_hooks \u001b[38;5;129;01mor\u001b[39;00m \u001b[38;5;28mself\u001b[39m._forward_hooks \u001b[38;5;129;01mor\u001b[39;00m \u001b[38;5;28mself\u001b[39m._forward_pre_hooks\n\u001b[32m   1748\u001b[39m         \u001b[38;5;129;01mor\u001b[39;00m _global_backward_pre_hooks \u001b[38;5;129;01mor\u001b[39;00m _global_backward_hooks\n\u001b[32m   1749\u001b[39m         \u001b[38;5;129;01mor\u001b[39;00m _global_forward_hooks \u001b[38;5;129;01mor\u001b[39;00m _global_forward_pre_hooks):\n\u001b[32m-> \u001b[39m\u001b[32m1750\u001b[39m     \u001b[38;5;28;01mreturn\u001b[39;00m \u001b[43mforward_call\u001b[49m\u001b[43m(\u001b[49m\u001b[43m*\u001b[49m\u001b[43margs\u001b[49m\u001b[43m,\u001b[49m\u001b[43m \u001b[49m\u001b[43m*\u001b[49m\u001b[43m*\u001b[49m\u001b[43mkwargs\u001b[49m\u001b[43m)\u001b[49m\n\u001b[32m   1752\u001b[39m result = \u001b[38;5;28;01mNone\u001b[39;00m\n\u001b[32m   1753\u001b[39m called_always_called_hooks = \u001b[38;5;28mset\u001b[39m()\n",
      "\u001b[36mFile \u001b[39m\u001b[32m/mnt/c/Users/abhir/VeriSite/env/lib/python3.12/site-packages/torch/nn/modules/batchnorm.py:173\u001b[39m, in \u001b[36m_BatchNorm.forward\u001b[39m\u001b[34m(self, input)\u001b[39m\n\u001b[32m    170\u001b[39m \u001b[38;5;28;01mif\u001b[39;00m \u001b[38;5;28mself\u001b[39m.training \u001b[38;5;129;01mand\u001b[39;00m \u001b[38;5;28mself\u001b[39m.track_running_stats:\n\u001b[32m    171\u001b[39m     \u001b[38;5;66;03m# TODO: if statement only here to tell the jit to skip emitting this when it is None\u001b[39;00m\n\u001b[32m    172\u001b[39m     \u001b[38;5;28;01mif\u001b[39;00m \u001b[38;5;28mself\u001b[39m.num_batches_tracked \u001b[38;5;129;01mis\u001b[39;00m \u001b[38;5;129;01mnot\u001b[39;00m \u001b[38;5;28;01mNone\u001b[39;00m:  \u001b[38;5;66;03m# type: ignore[has-type]\u001b[39;00m\n\u001b[32m--> \u001b[39m\u001b[32m173\u001b[39m         \u001b[38;5;28;43mself\u001b[39;49m\u001b[43m.\u001b[49m\u001b[43mnum_batches_tracked\u001b[49m\u001b[43m.\u001b[49m\u001b[43madd_\u001b[49m\u001b[43m(\u001b[49m\u001b[32;43m1\u001b[39;49m\u001b[43m)\u001b[49m  \u001b[38;5;66;03m# type: ignore[has-type]\u001b[39;00m\n\u001b[32m    174\u001b[39m         \u001b[38;5;28;01mif\u001b[39;00m \u001b[38;5;28mself\u001b[39m.momentum \u001b[38;5;129;01mis\u001b[39;00m \u001b[38;5;28;01mNone\u001b[39;00m:  \u001b[38;5;66;03m# use cumulative moving average\u001b[39;00m\n\u001b[32m    175\u001b[39m             exponential_average_factor = \u001b[32m1.0\u001b[39m / \u001b[38;5;28mfloat\u001b[39m(\u001b[38;5;28mself\u001b[39m.num_batches_tracked)\n",
      "\u001b[31mKeyboardInterrupt\u001b[39m: "
     ]
    }
   ],
   "source": [
    "for epoch in range(num_epochs):\n",
    "    model.train()\n",
    "    train_loss = 0.0\n",
    "    train_total,train_correct = 0,0\n",
    "    for dom_batch,oth_batch,labels_batch in train_loader:\n",
    "        dom_batch,oth_batch,labels_batch = dom_batch.to(device),oth_batch.to(device),labels_batch.to(device)\n",
    "\n",
    "        optimizer.zero_grad()\n",
    "        outputs = model(dom_batch,oth_batch)\n",
    "        loss = criterion(outputs,labels_batch.unsqueeze(1))\n",
    "        loss.backward()\n",
    "        optimizer.step()\n",
    "\n",
    "        predicted = torch.sigmoid(outputs) > 0.5\n",
    "        train_loss += loss.item()\n",
    "        train_total += labels_batch.size(0)\n",
    "        train_correct += (predicted == labels_batch.unsqueeze(1).byte()).sum().item()\n",
    "        \n",
    "    avg_train_loss = train_loss//len(train_loader)\n",
    "    train_accuracy = 100*(train_correct/train_total)\n",
    "    train_losses.append(avg_train_loss)\n",
    "    train_accuracys.append(train_accuracy)\n",
    "\n",
    "    model.eval()\n",
    "    val_loss = 0.0\n",
    "    val_correct,val_total = 0,0\n",
    "    with torch.no_grad():\n",
    "        for dom_batch,oth_batch,labels_batch in val_loader:\n",
    "            dom_batch,oth_batch,labels_batch = dom_batch.to(device),oth_batch.to(device),labels_batch.to(device) \n",
    "            outputs = model(dom_batch,oth_batch)\n",
    "            loss = criterion(outputs,labels_batch.unsqueeze(1))\n",
    "            val_loss += loss.item()\n",
    "\n",
    "            predicted = torch.sigmoid(outputs) > 0.5\n",
    "            val_total += labels_batch.size(0) \n",
    "            val_correct = (predicted == labels_batch.unsqueeze(1).byte()).sum().item()\n",
    "    avg_val_loss = val_loss/len(val_loader)\n",
    "    val_accuracy = 100*(val_correct/val_total)\n",
    "\n",
    "    print(f'Epoch [{epoch+1}/{num_epochs}], Train Loss: {avg_train_loss:.4f}, Val Loss: {avg_val_loss:.4f}, Val Acc: {val_accuracy:.2f}%')\n",
    "    if avg_val_loss < best_val_loss:\n",
    "        best_val_loss = avg_val_loss\n",
    "        torch.save(model.state_dict(), best_model_path)\n",
    "\n",
    "print(\"Training finished.\")\n",
    "print(f\"Best validation loss achieved: {best_val_loss:.4f}\")\n",
    "print(f\"Best model parameters saved to: {best_model_path}\")    "
   ]
  },
  {
   "cell_type": "code",
   "execution_count": 129,
   "id": "1ff0ee1a-33cc-4101-a2fb-1e21a6165aa8",
   "metadata": {},
   "outputs": [
    {
     "data": {
      "text/plain": [
       "[78.55270521014344,\n",
       " 80.38244043236237,\n",
       " 80.74323329308162,\n",
       " 80.82275498483197,\n",
       " 80.92252525550026,\n",
       " 80.99946985538833,\n",
       " 81.05358878449621,\n",
       " 81.09077253850911,\n",
       " 81.16514004653492,\n",
       " 81.17397579006274,\n",
       " 69.3985067593438,\n",
       " 75.72305834535976,\n",
       " 77.11726504285336,\n",
       " 56.08598651076488,\n",
       " 61.10616145848673]"
      ]
     },
     "execution_count": 129,
     "metadata": {},
     "output_type": "execute_result"
    }
   ],
   "source": [
    "train_accuracys"
   ]
  },
  {
   "cell_type": "code",
   "execution_count": null,
   "id": "235fec17-f372-4078-a1a4-7e080c903ddc",
   "metadata": {},
   "outputs": [],
   "source": []
  }
 ],
 "metadata": {
  "kernelspec": {
   "display_name": "Python 3 (ipykernel)",
   "language": "python",
   "name": "python3"
  },
  "language_info": {
   "codemirror_mode": {
    "name": "ipython",
    "version": 3
   },
   "file_extension": ".py",
   "mimetype": "text/x-python",
   "name": "python",
   "nbconvert_exporter": "python",
   "pygments_lexer": "ipython3",
   "version": "3.12.3"
  }
 },
 "nbformat": 4,
 "nbformat_minor": 5
}
