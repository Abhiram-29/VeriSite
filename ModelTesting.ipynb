{
 "cells": [
  {
   "cell_type": "code",
   "execution_count": 1,
   "id": "e2ff7505-d3bf-4e44-8f94-09ba208c5f4f",
   "metadata": {},
   "outputs": [],
   "source": [
    "import dill\n",
    "import pandas as pd\n",
    "from sklearn.metrics import accuracy_score"
   ]
  },
  {
   "cell_type": "code",
   "execution_count": 2,
   "id": "015e0880-4877-4556-b26a-176450b1c181",
   "metadata": {},
   "outputs": [],
   "source": [
    "def load_model(filename):\n",
    "    with open(filename, 'rb') as file:\n",
    "        return dill.load(file)"
   ]
  },
  {
   "cell_type": "code",
   "execution_count": 3,
   "id": "351e2d31-9e0c-4716-816f-650657484f97",
   "metadata": {},
   "outputs": [],
   "source": [
    "model = load_model(\"./Model.pkl\")"
   ]
  },
  {
   "cell_type": "code",
   "execution_count": 4,
   "id": "1948678a-139a-4139-82b8-d0a97838c66e",
   "metadata": {},
   "outputs": [],
   "source": [
    "X_test = pd.read_csv(\"./X_test.csv\")\n",
    "y_test = pd.read_csv(\"./y_test.csv\")\n",
    "X_test.drop(\"Unnamed: 0\",axis=1,inplace=True)\n",
    "y_test.drop(\"Unnamed: 0\",axis=1,inplace=True)"
   ]
  },
  {
   "cell_type": "code",
   "execution_count": 5,
   "id": "90f0d5ee-8d7b-46c4-bf1d-5b43d50c5cea",
   "metadata": {},
   "outputs": [
    {
     "data": {
      "text/plain": [
       "0.9941275167785235"
      ]
     },
     "execution_count": 5,
     "metadata": {},
     "output_type": "execute_result"
    }
   ],
   "source": [
    "predictions = model.predict_proba(X_test)\n",
    "accuracy_score(predictions,y_test)"
   ]
  },
  {
   "cell_type": "code",
   "execution_count": 6,
   "id": "146146fb-4771-406b-8011-3d945ba7869f",
   "metadata": {
    "scrolled": true
   },
   "outputs": [
    {
     "name": "stdout",
     "output_type": "stream",
     "text": [
      "Python 3.11.4\n"
     ]
    }
   ],
   "source": [
    "!python --version"
   ]
  },
  {
   "cell_type": "code",
   "execution_count": 8,
   "id": "8ce05c02-bb75-44fe-add9-dfff9d45159a",
   "metadata": {},
   "outputs": [
    {
     "name": "stdout",
     "output_type": "stream",
     "text": [
      "scikit-learn version: 1.4.0\n"
     ]
    }
   ],
   "source": [
    "import sklearn\n",
    "print(f\"scikit-learn version: {sklearn.__version__}\")"
   ]
  },
  {
   "cell_type": "code",
   "execution_count": 9,
   "id": "8c9b4b2e-0f13-41b5-89f7-231788d638e7",
   "metadata": {},
   "outputs": [],
   "source": [
    "extractedFeatures =  {'urlLength': 19, 'urlDepth': -1, 'protocol': 'https', 'domain': 'example.com', 'domainAge': 10568, 'registrar': 'RESERVED-Internet Assigned Numbers Authority', 'sslAge': 172, 'pageRank': '247'}"
   ]
  },
  {
   "cell_type": "code",
   "execution_count": 12,
   "id": "7cfd8489-b347-42d3-b98c-7286c31e574c",
   "metadata": {},
   "outputs": [],
   "source": [
    "t = pd.DataFrame(extractedFeatures,index=[1])"
   ]
  },
  {
   "cell_type": "code",
   "execution_count": 13,
   "id": "489337a0-6f86-42d6-ad2d-55ce7979e7e4",
   "metadata": {},
   "outputs": [
    {
     "data": {
      "text/html": [
       "<div>\n",
       "<style scoped>\n",
       "    .dataframe tbody tr th:only-of-type {\n",
       "        vertical-align: middle;\n",
       "    }\n",
       "\n",
       "    .dataframe tbody tr th {\n",
       "        vertical-align: top;\n",
       "    }\n",
       "\n",
       "    .dataframe thead th {\n",
       "        text-align: right;\n",
       "    }\n",
       "</style>\n",
       "<table border=\"1\" class=\"dataframe\">\n",
       "  <thead>\n",
       "    <tr style=\"text-align: right;\">\n",
       "      <th></th>\n",
       "      <th>urlLength</th>\n",
       "      <th>urlDepth</th>\n",
       "      <th>protocol</th>\n",
       "      <th>domain</th>\n",
       "      <th>domainAge</th>\n",
       "      <th>registrar</th>\n",
       "      <th>sslAge</th>\n",
       "      <th>pageRank</th>\n",
       "    </tr>\n",
       "  </thead>\n",
       "  <tbody>\n",
       "    <tr>\n",
       "      <th>1</th>\n",
       "      <td>19</td>\n",
       "      <td>-1</td>\n",
       "      <td>https</td>\n",
       "      <td>example.com</td>\n",
       "      <td>10568</td>\n",
       "      <td>RESERVED-Internet Assigned Numbers Authority</td>\n",
       "      <td>172</td>\n",
       "      <td>247</td>\n",
       "    </tr>\n",
       "  </tbody>\n",
       "</table>\n",
       "</div>"
      ],
      "text/plain": [
       "   urlLength  urlDepth protocol       domain  domainAge  \\\n",
       "1         19        -1    https  example.com      10568   \n",
       "\n",
       "                                      registrar  sslAge pageRank  \n",
       "1  RESERVED-Internet Assigned Numbers Authority     172      247  "
      ]
     },
     "execution_count": 13,
     "metadata": {},
     "output_type": "execute_result"
    }
   ],
   "source": [
    "t.head()"
   ]
  },
  {
   "cell_type": "code",
   "execution_count": 15,
   "id": "da8aff13-86ef-4906-a8fd-39cfed077937",
   "metadata": {},
   "outputs": [
    {
     "data": {
      "text/html": [
       "<div>\n",
       "<style scoped>\n",
       "    .dataframe tbody tr th:only-of-type {\n",
       "        vertical-align: middle;\n",
       "    }\n",
       "\n",
       "    .dataframe tbody tr th {\n",
       "        vertical-align: top;\n",
       "    }\n",
       "\n",
       "    .dataframe thead th {\n",
       "        text-align: right;\n",
       "    }\n",
       "</style>\n",
       "<table border=\"1\" class=\"dataframe\">\n",
       "  <thead>\n",
       "    <tr style=\"text-align: right;\">\n",
       "      <th></th>\n",
       "      <th>urlLength</th>\n",
       "      <th>urlDepth</th>\n",
       "      <th>protocol</th>\n",
       "      <th>domain</th>\n",
       "      <th>domainAge</th>\n",
       "      <th>registrar</th>\n",
       "      <th>sslAge</th>\n",
       "      <th>PageRank</th>\n",
       "    </tr>\n",
       "  </thead>\n",
       "  <tbody>\n",
       "    <tr>\n",
       "      <th>0</th>\n",
       "      <td>29</td>\n",
       "      <td>-1</td>\n",
       "      <td>https</td>\n",
       "      <td>com</td>\n",
       "      <td>9988.000000</td>\n",
       "      <td>Safenames Ltd</td>\n",
       "      <td>33.000000</td>\n",
       "      <td>148.0</td>\n",
       "    </tr>\n",
       "    <tr>\n",
       "      <th>1</th>\n",
       "      <td>24</td>\n",
       "      <td>-1</td>\n",
       "      <td>https</td>\n",
       "      <td>ru</td>\n",
       "      <td>4768.341729</td>\n",
       "      <td>NaN</td>\n",
       "      <td>95.425725</td>\n",
       "      <td>47611696.0</td>\n",
       "    </tr>\n",
       "    <tr>\n",
       "      <th>2</th>\n",
       "      <td>19</td>\n",
       "      <td>-1</td>\n",
       "      <td>https</td>\n",
       "      <td>com</td>\n",
       "      <td>9658.000000</td>\n",
       "      <td>CSC CORPORATE DOMAINS, INC.</td>\n",
       "      <td>137.000000</td>\n",
       "      <td>11762.0</td>\n",
       "    </tr>\n",
       "    <tr>\n",
       "      <th>3</th>\n",
       "      <td>20</td>\n",
       "      <td>-1</td>\n",
       "      <td>https</td>\n",
       "      <td>st</td>\n",
       "      <td>145.000000</td>\n",
       "      <td>NETIM</td>\n",
       "      <td>25.000000</td>\n",
       "      <td>40361721.0</td>\n",
       "    </tr>\n",
       "    <tr>\n",
       "      <th>4</th>\n",
       "      <td>19</td>\n",
       "      <td>-1</td>\n",
       "      <td>https</td>\n",
       "      <td>com</td>\n",
       "      <td>10403.000000</td>\n",
       "      <td>easyDNS Technologies, Inc.</td>\n",
       "      <td>174.000000</td>\n",
       "      <td>97237.0</td>\n",
       "    </tr>\n",
       "  </tbody>\n",
       "</table>\n",
       "</div>"
      ],
      "text/plain": [
       "   urlLength  urlDepth protocol domain     domainAge  \\\n",
       "0         29        -1    https    com   9988.000000   \n",
       "1         24        -1    https     ru   4768.341729   \n",
       "2         19        -1    https    com   9658.000000   \n",
       "3         20        -1    https     st    145.000000   \n",
       "4         19        -1    https    com  10403.000000   \n",
       "\n",
       "                     registrar      sslAge    PageRank  \n",
       "0                Safenames Ltd   33.000000       148.0  \n",
       "1                          NaN   95.425725  47611696.0  \n",
       "2  CSC CORPORATE DOMAINS, INC.  137.000000     11762.0  \n",
       "3                        NETIM   25.000000  40361721.0  \n",
       "4   easyDNS Technologies, Inc.  174.000000     97237.0  "
      ]
     },
     "execution_count": 15,
     "metadata": {},
     "output_type": "execute_result"
    }
   ],
   "source": [
    "X_test.head()"
   ]
  },
  {
   "cell_type": "code",
   "execution_count": null,
   "id": "01320e01-4dcd-4a97-bcf6-1a618af00a7c",
   "metadata": {},
   "outputs": [],
   "source": []
  }
 ],
 "metadata": {
  "kernelspec": {
   "display_name": "Python 3 (ipykernel)",
   "language": "python",
   "name": "python3"
  },
  "language_info": {
   "codemirror_mode": {
    "name": "ipython",
    "version": 3
   },
   "file_extension": ".py",
   "mimetype": "text/x-python",
   "name": "python",
   "nbconvert_exporter": "python",
   "pygments_lexer": "ipython3",
   "version": "3.11.4"
  }
 },
 "nbformat": 4,
 "nbformat_minor": 5
}
